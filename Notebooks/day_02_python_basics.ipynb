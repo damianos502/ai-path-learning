{
 "cells": [
  {
   "cell_type": "code",
   "execution_count": 6,
   "id": "790545d2-572d-4ab1-b560-ba5558918e21",
   "metadata": {},
   "outputs": [
    {
     "name": "stdout",
     "output_type": "stream",
     "text": [
      "Sensor Temperatura: 21\n",
      "Sensor Level: 95\n",
      "23 stopni Celsjusza to 73.4 stopni Fahrenheita\n",
      "17 stopni Celsjusza to 62.6 stopni Fahrenheita\n",
      "6 stopni Celsjusza to 42.8 stopni Fahrenheita\n",
      "34 stopni Celsjusza to 93.2 stopni Fahrenheita\n",
      "29 stopni Celsjusza to 84.2 stopni Fahrenheita\n"
     ]
    }
   ],
   "source": [
    "def temperatura(lista_temp:str):\n",
    "        srednia = sum(lista_temp) / len(lista_temp)\n",
    "        maksimum = max(lista_temp)\n",
    "        minimum = min(lista_temp)\n",
    "\n",
    "        return srednia, maksimum, minimum\n",
    "\n",
    "class Sensor:\n",
    "    def __init__(self, name, value):\n",
    "            self.name = name\n",
    "            self.value = value\n",
    "    def display(self):\n",
    "            print(f\"Sensor {self.name}: {self.value}\")\n",
    "\n",
    "s1 = Sensor(\"Temperatura\", 21)\n",
    "s2 = Sensor(\"Level\", 95)\n",
    "s1.display()\n",
    "s2.display()\n",
    "\n",
    "stopnie_C = [23, 17, 6, 34, 29]\n",
    "\n",
    "for i in stopnie_C:\n",
    "    print(f\"{i} stopni Celsjusza to {i * 9/5 + 32} stopni Fahrenheita\")\n",
    "        "
   ]
  },
  {
   "cell_type": "code",
   "execution_count": null,
   "id": "2cba28f6-7984-4011-a4ed-cc49fe602ca8",
   "metadata": {},
   "outputs": [],
   "source": []
  },
  {
   "cell_type": "code",
   "execution_count": null,
   "id": "12072084-0094-4df1-8747-1d43b1d296a3",
   "metadata": {},
   "outputs": [],
   "source": []
  }
 ],
 "metadata": {
  "kernelspec": {
   "display_name": "Python 3 (ipykernel)",
   "language": "python",
   "name": "python3"
  },
  "language_info": {
   "codemirror_mode": {
    "name": "ipython",
    "version": 3
   },
   "file_extension": ".py",
   "mimetype": "text/x-python",
   "name": "python",
   "nbconvert_exporter": "python",
   "pygments_lexer": "ipython3",
   "version": "3.13.4"
  }
 },
 "nbformat": 4,
 "nbformat_minor": 5
}
